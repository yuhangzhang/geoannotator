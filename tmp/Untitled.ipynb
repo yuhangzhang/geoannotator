{
 "cells": [
  {
   "cell_type": "code",
   "execution_count": 3,
   "metadata": {},
   "outputs": [],
   "source": [
    "import numpy as np\n",
    "import psycopg2\n",
    "\n",
    "import sklearn.decomposition as sd\n",
    "\n",
    "conn = psycopg2.connect(host=\"localhost\", database=\"DataLake\", user=\"yuhang\")\n",
    "\n",
    "cur = conn.cursor()\n",
    "cur.execute(\"select id, unique_id, ref_0001, ref_0001vs, ref_0010, ref_0100, ref_0100vs, thick, wii_clip_1,\\\n",
    "ceno_clip_, x, y, z, class, age from yuhang.aem_shapefile where unique_id<160500\")\n",
    "inputrecord = np.array(cur.fetchall())\n",
    "xyz = inputrecord[:, 10:13].astype(float)  # nx3 matrix\n",
    "pca = sd.PCA(n_components=1)\n",
    "pca.fit(xyz[:, 0:2])\n",
    "xy = pca.transform(xyz[:, 0:2])"
   ]
  },
  {
   "cell_type": "code",
   "execution_count": 4,
   "metadata": {},
   "outputs": [
    {
     "data": {
      "text/plain": [
       "array([[3.4793180e+05, 7.3396325e+06, 5.8158000e+02],\n",
       "       [3.4793180e+05, 7.3396325e+06, 5.7738000e+02],\n",
       "       [3.4793180e+05, 7.3396325e+06, 5.7276000e+02],\n",
       "       ...,\n",
       "       [3.4956300e+05, 7.3415031e+06, 2.4599000e+02],\n",
       "       [3.4956300e+05, 7.3415031e+06, 1.9093000e+02],\n",
       "       [3.4956300e+05, 7.3415031e+06, 1.3325000e+02]])"
      ]
     },
     "execution_count": 4,
     "metadata": {},
     "output_type": "execute_result"
    }
   ],
   "source": [
    "xyz"
   ]
  },
  {
   "cell_type": "code",
   "execution_count": 5,
   "metadata": {},
   "outputs": [
    {
     "data": {
      "text/plain": [
       "array([[ 1276.85296023],\n",
       "       [ 1276.85296023],\n",
       "       [ 1276.85296023],\n",
       "       ...,\n",
       "       [-1203.27988035],\n",
       "       [-1203.27988035],\n",
       "       [-1203.27988035]])"
      ]
     },
     "execution_count": 5,
     "metadata": {},
     "output_type": "execute_result"
    }
   ],
   "source": [
    "xy"
   ]
  },
  {
   "cell_type": "code",
   "execution_count": 6,
   "metadata": {},
   "outputs": [],
   "source": [
    "xy = inputrecord[:, 10:12].astype(float)\n"
   ]
  },
  {
   "cell_type": "code",
   "execution_count": 7,
   "metadata": {},
   "outputs": [
    {
     "data": {
      "text/plain": [
       "array([[ 347931.8, 7339632.5],\n",
       "       [ 347931.8, 7339632.5],\n",
       "       [ 347931.8, 7339632.5],\n",
       "       ...,\n",
       "       [ 349563. , 7341503.1],\n",
       "       [ 349563. , 7341503.1],\n",
       "       [ 349563. , 7341503.1]])"
      ]
     },
     "execution_count": 7,
     "metadata": {},
     "output_type": "execute_result"
    }
   ],
   "source": [
    "xy"
   ]
  },
  {
   "cell_type": "code",
   "execution_count": 8,
   "metadata": {},
   "outputs": [
    {
     "data": {
      "text/plain": [
       "array([[   0. ,    0. ],\n",
       "       [   0. ,    0. ],\n",
       "       [   0. ,    0. ],\n",
       "       ...,\n",
       "       [1631.2, 1870.6],\n",
       "       [1631.2, 1870.6],\n",
       "       [1631.2, 1870.6]])"
      ]
     },
     "execution_count": 8,
     "metadata": {},
     "output_type": "execute_result"
    }
   ],
   "source": [
    "xy-xy[0,:]"
   ]
  },
  {
   "cell_type": "code",
   "execution_count": 15,
   "metadata": {},
   "outputs": [
    {
     "data": {
      "text/plain": [
       "array([   0.        ,    0.        ,    0.        , ..., 2481.92622775,\n",
       "       2481.92622775, 2481.92622775])"
      ]
     },
     "execution_count": 15,
     "metadata": {},
     "output_type": "execute_result"
    }
   ],
   "source": [
    "np.linalg.norm(xy-xy[0,:], axis=1)"
   ]
  },
  {
   "cell_type": "code",
   "execution_count": 17,
   "metadata": {},
   "outputs": [
    {
     "data": {
      "text/plain": [
       "27"
      ]
     },
     "execution_count": 17,
     "metadata": {},
     "output_type": "execute_result"
    }
   ],
   "source": [
    "3**3"
   ]
  },
  {
   "cell_type": "code",
   "execution_count": 18,
   "metadata": {},
   "outputs": [],
   "source": [
    "x=np.array([1,2,3,4])"
   ]
  },
  {
   "cell_type": "code",
   "execution_count": 19,
   "metadata": {},
   "outputs": [
    {
     "data": {
      "text/plain": [
       "array([ 1,  4,  9, 16])"
      ]
     },
     "execution_count": 19,
     "metadata": {},
     "output_type": "execute_result"
    }
   ],
   "source": [
    "x**2"
   ]
  },
  {
   "cell_type": "code",
   "execution_count": null,
   "metadata": {},
   "outputs": [],
   "source": []
  }
 ],
 "metadata": {
  "kernelspec": {
   "display_name": "Python 3",
   "language": "python",
   "name": "python3"
  },
  "language_info": {
   "codemirror_mode": {
    "name": "ipython",
    "version": 3
   },
   "file_extension": ".py",
   "mimetype": "text/x-python",
   "name": "python",
   "nbconvert_exporter": "python",
   "pygments_lexer": "ipython3",
   "version": "3.6.6"
  }
 },
 "nbformat": 4,
 "nbformat_minor": 2
}
