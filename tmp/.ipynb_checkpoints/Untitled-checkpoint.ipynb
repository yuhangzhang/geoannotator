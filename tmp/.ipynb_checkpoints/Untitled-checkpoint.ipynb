{
 "cells": [
  {
   "cell_type": "code",
   "execution_count": null,
   "metadata": {},
   "outputs": [],
   "source": [
    "import numpy as np\n",
    "import psycopg2\n",
    "from geoinput import GeoInput\n",
    "\n",
    "conn = psycopg2.connect(host=\"localhost\", database=\"DataLake\", user=\"yuhang\")\n",
    "\n",
    "cur = conn.cursor()\n",
    "cur.execute(\"select id, unique_id, ref_0001, ref_0001vs, ref_0010, ref_0100, ref_0100vs, thick, wii_clip_1,\\\n",
    "ceno_clip_, x, y, z, class, age from yuhang.aem_shapefile where unique_id<160500\")\n",
    "inputrecord = np.array(cur.fetchall())\n"
   ]
  }
 ],
 "metadata": {
  "kernelspec": {
   "display_name": "Python 3",
   "language": "python",
   "name": "python3"
  },
  "language_info": {
   "codemirror_mode": {
    "name": "ipython",
    "version": 3
   },
   "file_extension": ".py",
   "mimetype": "text/x-python",
   "name": "python",
   "nbconvert_exporter": "python",
   "pygments_lexer": "ipython3",
   "version": "3.6.6"
  }
 },
 "nbformat": 4,
 "nbformat_minor": 2
}
